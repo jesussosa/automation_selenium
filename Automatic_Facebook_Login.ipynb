{
 "cells": [
  {
   "cell_type": "markdown",
   "metadata": {},
   "source": [
    "# Automatic Facebook Login"
   ]
  },
  {
   "cell_type": "markdown",
   "metadata": {},
   "source": [
    "The Pandas and Selenium libraries are loaded"
   ]
  },
  {
   "cell_type": "code",
   "execution_count": 7,
   "metadata": {},
   "outputs": [],
   "source": [
    "import pandas as pd\n",
    "import time\n",
    "from selenium import webdriver\n",
    "from selenium.webdriver.common.by import By\n",
    "from selenium.webdriver.support.ui import WebDriverWait\n",
    "from selenium.webdriver.support import expected_conditions as ec"
   ]
  },
  {
   "attachments": {},
   "cell_type": "markdown",
   "metadata": {},
   "source": [
    "Access the user and the password, which we have saved in some route. This file should have the following form:"
   ]
  },
  {
   "attachments": {
    "image-2.png": {
     "image/png": "[encoded data removed]"
    }
   },
   "cell_type": "markdown",
   "metadata": {},
   "source": [
    "![image-2.png](attachment:image-2.png)\n",
    "\n",
    "We host the user and password values."
   ]
  },
  {
   "cell_type": "code",
   "execution_count": 8,
   "metadata": {},
   "outputs": [],
   "source": [
    "excel_credenciales = r'D:\\Users\\IR43029574\\Documents\\Python Scripts\\credenciales3.xlsx'\n",
    "\n",
    "df = pd.read_excel(excel_credenciales)\n",
    "\n",
    "user = df['usuario'][0]\n",
    "pasw = df['clave'][0]"
   ]
  },
  {
   "cell_type": "markdown",
   "metadata": {},
   "source": [
    "We write the facebook page and the \"Copy full XPath\" of the home page where the information is entered."
   ]
  },
  {
   "cell_type": "code",
   "execution_count": 9,
   "metadata": {},
   "outputs": [],
   "source": [
    "url = 'https://www.facebook.com/'\n",
    "\n",
    "selector_user = '#email'\n",
    "selector_pasw = '#pass'\n",
    "boton_login = '#u_0_b'"
   ]
  },
  {
   "cell_type": "markdown",
   "metadata": {},
   "source": [
    "We download \"chromedriver.exe\" from the internet, or place it in the path and open the browser"
   ]
  },
  {
   "cell_type": "code",
   "execution_count": 10,
   "metadata": {},
   "outputs": [],
   "source": [
    "# Open browser\n",
    "driver = webdriver.Chrome(\"D:/Users/IR43029574/Documents/chromedriver.exe\")\n",
    "\n",
    "# maximize screen\n",
    "driver.maximize_window()\n",
    "\n",
    "driver.get(url)\n",
    "\n",
    "# wait time\n",
    "wait = WebDriverWait(driver, 20)\n"
   ]
  },
  {
   "cell_type": "markdown",
   "metadata": {},
   "source": [
    "With the information saved we enter"
   ]
  },
  {
   "cell_type": "code",
   "execution_count": 6,
   "metadata": {},
   "outputs": [],
   "source": [
    "# Log in\n",
    "driver.find_element_by_css_selector(selector_user).send_keys(user)\n",
    "driver.find_element_by_css_selector(selector_pasw).send_keys(pasw)\n",
    "driver.find_element_by_css_selector(boton_login).click()"
   ]
  },
  {
   "cell_type": "markdown",
   "metadata": {},
   "source": [
    "We can do more actions within the page and finally we close the file"
   ]
  },
  {
   "cell_type": "code",
   "execution_count": null,
   "metadata": {},
   "outputs": [],
   "source": [
    "# More actions within the page\n",
    "time.sleep(5)\n",
    "\n",
    "# Close\n",
    "driver.quit()"
   ]
  }
 ],
 "metadata": {
  "kernelspec": {
   "display_name": "Python 3",
   "language": "python",
   "name": "python3"
  },
  "language_info": {
   "codemirror_mode": {
    "name": "ipython",
    "version": 3
   },
   "file_extension": ".py",
   "mimetype": "text/x-python",
   "name": "python",
   "nbconvert_exporter": "python",
   "pygments_lexer": "ipython3",
   "version": "3.8.5"
  }
 },
 "nbformat": 4,
 "nbformat_minor": 4
}
